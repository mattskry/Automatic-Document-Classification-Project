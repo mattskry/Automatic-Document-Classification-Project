{
 "cells": [
  {
   "cell_type": "markdown",
   "metadata": {},
   "source": [
    "# Step 1: Creating a Mini Dataset from RVL-CDIP\n",
    "\n",
    "In this notebook, I create a mini dataset from the original RVL-CDIP dataset.\n",
    "A sample of images is copied from each top-level folder into a single flat directory, and \n",
    "the corresponding label files are updated to reflect the new file paths."
   ]
  },
  {
   "cell_type": "code",
   "execution_count": 2,
   "metadata": {},
   "outputs": [],
   "source": [
    "# Import required libraries for file and data operations.\n",
    "import os\n",
    "import shutil\n",
    "import random"
   ]
  },
  {
   "cell_type": "markdown",
   "metadata": {},
   "source": [
    "## Define Paths and Parameters\n",
    "\n",
    "- **SOURCE_IMAGES**: Path to the original folder containing images.\n",
    "- **SOURCE_LABELS**: Path to the original folder containing label files.\n",
    "- **DEST_PATH**: Destination path for my mini dataset.\n",
    "- **N_SAMPLES_PER_FOLDER**: Number of images I randomly select from each top-level folder.\n",
    "\n",
    "The set `selected_images` is used to store the basenames of selected images for later label matching.\n"
   ]
  },
  {
   "cell_type": "code",
   "execution_count": 6,
   "metadata": {},
   "outputs": [],
   "source": [
    "# Define source and destination paths for images and labels.\n",
    "SOURCE_IMAGES = 'data/rvl-cdip/images'\n",
    "SOURCE_LABELS = 'data/rvl-cdip/labels'\n",
    "DEST_PATH = 'data/rvl-cdip-mini-dataset'\n",
    "DEST_IMAGES = os.path.join(DEST_PATH, 'images')\n",
    "DEST_LABELS = os.path.join(DEST_PATH, 'labels')\n",
    "\n",
    "# Number of images to select from each top-level folder.\n",
    "N_SAMPLES_PER_FOLDER = 100\n",
    "\n",
    "# Set to store the basenames of selected images (used for label matching).\n",
    "selected_images = set()\n"
   ]
  },
  {
   "cell_type": "markdown",
   "metadata": {},
   "source": [
    "## Copy Images\n",
    "\n",
    "In this step, code iterate over every top-level folder in the source images directory.\n",
    "For each folder:\n",
    "- Recursively gather all image files.\n",
    "- Randomly select up to `N_SAMPLES_PER_FOLDER` images.\n",
    "- Copy the selected images into the destination folder, maintaining a flat structure.\n"
   ]
  },
  {
   "cell_type": "code",
   "execution_count": 7,
   "metadata": {},
   "outputs": [
    {
     "name": "stdout",
     "output_type": "stream",
     "text": [
      "Mini dataset images created at: data/rvl-cdip-mini-dataset/images\n"
     ]
    }
   ],
   "source": [
    "# Create the destination images folder (flat structure).\n",
    "os.makedirs(DEST_IMAGES, exist_ok=True)\n",
    "\n",
    "# Iterate over each top-level folder in SOURCE_IMAGES.\n",
    "for top_folder in os.listdir(SOURCE_IMAGES):\n",
    "    top_folder_path = os.path.join(SOURCE_IMAGES, top_folder)\n",
    "    if os.path.isdir(top_folder_path):\n",
    "        # Gather all image files recursively within this top-level folder.\n",
    "        image_files = []\n",
    "        for root, _, files in os.walk(top_folder_path):\n",
    "            for file in files:\n",
    "                if file.lower().endswith(('.png', '.jpg', '.jpeg', '.tif', '.tiff')):\n",
    "                    image_files.append(os.path.join(root, file))\n",
    "        \n",
    "        # Randomly select up to N_SAMPLES_PER_FOLDER images.\n",
    "        selected_files = random.sample(image_files, k=min(N_SAMPLES_PER_FOLDER, len(image_files)))\n",
    "        \n",
    "        # Copy each selected image to the destination folder (flat structure).\n",
    "        for src_file in selected_files:\n",
    "            # Use basename only since a flat structure is desired.\n",
    "            base_name = os.path.basename(src_file)\n",
    "            dest_file = os.path.join(DEST_IMAGES, base_name)\n",
    "            shutil.copy2(src_file, dest_file)\n",
    "            selected_images.add(base_name)\n",
    "\n",
    "print(\"Mini dataset images created at:\", DEST_IMAGES)"
   ]
  },
  {
   "cell_type": "markdown",
   "metadata": {},
   "source": [
    "## Copy and Update Labels\n",
    "\n",
    "In this step:\n",
    "- Create the destination folder for label files.\n",
    "- Process each label file (e.g., train.txt, test.txt, val.txt) by updating the image paths to reflect the flat folder structure.\n",
    "- Only write the lines for images that were selected.\n"
   ]
  },
  {
   "cell_type": "code",
   "execution_count": 8,
   "metadata": {},
   "outputs": [
    {
     "name": "stdout",
     "output_type": "stream",
     "text": [
      "Mini dataset label files written to: data/rvl-cdip-mini-dataset/labels\n"
     ]
    }
   ],
   "source": [
    "# Create the destination labels folder.\n",
    "os.makedirs(DEST_LABELS, exist_ok=True)\n",
    "\n",
    "# Process each label file (e.g., train.txt, test.txt, val.txt) and update image paths.\n",
    "for label_filename in os.listdir(SOURCE_LABELS):\n",
    "    src_label_file = os.path.join(SOURCE_LABELS, label_filename)\n",
    "    dest_label_file = os.path.join(DEST_LABELS, label_filename)\n",
    "    \n",
    "    with open(src_label_file, 'r', encoding='utf-8') as infile, \\\n",
    "         open(dest_label_file, 'w', encoding='utf-8') as outfile:\n",
    "        for line in infile:\n",
    "            parts = line.strip().split()\n",
    "            if len(parts) < 2:\n",
    "                continue  # Skip malformed lines\n",
    "            image_path = parts[0]\n",
    "            label = \" \".join(parts[1:])\n",
    "            \n",
    "            # Update image path to flat structure: use only the basename.\n",
    "            base_name = os.path.basename(image_path)\n",
    "            \n",
    "            # If the image was selected, write the updated label line with the flat image name.\n",
    "            if base_name in selected_images:\n",
    "                outfile.write(f\"{base_name} {label}\\n\")\n",
    "\n",
    "print(\"Mini dataset label files written to:\", DEST_LABELS)\n"
   ]
  },
  {
   "cell_type": "markdown",
   "metadata": {},
   "source": [
    "## Document Categories\n",
    "\n",
    "The categories are numbered from 0 to 15 in the following order:\n",
    "\n",
    "- 0. letter\n",
    "- 1. form\n",
    "- 2. email\n",
    "- 3. handwritten\n",
    "- 4. advertisement\n",
    "- 5. scientific report\n",
    "- 6. scientific publication\n",
    "- 7. specification\n",
    "- 8. file folder\n",
    "- 9. news article\n",
    "- 10. budget\n",
    "- 11. invoice\n",
    "- 12. presentation\n",
    "- 13. questionnaire\n",
    "- 14. resume\n",
    "- 15. memo\n"
   ]
  },
  {
   "cell_type": "markdown",
   "metadata": {},
   "source": [
    "## Summary\n",
    "\n",
    "- I defined the paths and parameters for my mini dataset.\n",
    "- A sample of images was copied from the original dataset into a new directory with a flat structure.\n",
    "- I updated the label files so that they refer to the new image paths.\n",
    "\n",
    "This mini dataset will be used in further experiments for document classification that I plan to conduct.\n"
   ]
  }
 ],
 "metadata": {
  "kernelspec": {
   "display_name": "base",
   "language": "python",
   "name": "python3"
  },
  "language_info": {
   "codemirror_mode": {
    "name": "ipython",
    "version": 3
   },
   "file_extension": ".py",
   "mimetype": "text/x-python",
   "name": "python",
   "nbconvert_exporter": "python",
   "pygments_lexer": "ipython3",
   "version": "3.11.0"
  }
 },
 "nbformat": 4,
 "nbformat_minor": 2
}
